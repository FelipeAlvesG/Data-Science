{
  "nbformat": 4,
  "nbformat_minor": 0,
  "metadata": {
    "colab": {
      "name": "Data Science da Atlas.ipynb",
      "provenance": [],
      "collapsed_sections": [],
      "mount_file_id": "1I7rZPTt4R3uXhwX8XXbAUcMUGzjS40M9",
      "authorship_tag": "ABX9TyNk40628V0qV670OKCFuBch",
      "include_colab_link": true
    },
    "kernelspec": {
      "name": "python3",
      "display_name": "Python 3"
    },
    "language_info": {
      "name": "python"
    }
  },
  "cells": [
    {
      "cell_type": "markdown",
      "metadata": {
        "id": "view-in-github",
        "colab_type": "text"
      },
      "source": [
        "<a href=\"https://colab.research.google.com/github/FelipeAlvesG/Data-Science/blob/main/Data_Science_da_Atlas.ipynb\" target=\"_parent\"><img src=\"https://colab.research.google.com/assets/colab-badge.svg\" alt=\"Open In Colab\"/></a>"
      ]
    },
    {
      "cell_type": "code",
      "metadata": {
        "id": "8ZIIIZFcbGYn"
      },
      "source": [
        "#Arquivo da dados que foi convertido para 'CSV' para testes futuros\n",
        "## pd.read_csv('/content/drive/MyDrive/Colab Notebooks/Datasets/dados.csv')  "
      ],
      "execution_count": null,
      "outputs": []
    },
    {
      "cell_type": "code",
      "metadata": {
        "id": "ToqWJg-AUiYf"
      },
      "source": [
        "#BIBLIOTECAS A SEREM USADAS\n",
        "import pandas as pd\n",
        "import numpy as np\n",
        "import seaborn as sns\n",
        "import warnings\n",
        "warnings.filterwarnings(\"ignore\")"
      ],
      "execution_count": 1,
      "outputs": []
    },
    {
      "cell_type": "code",
      "metadata": {
        "colab": {
          "base_uri": "https://localhost:8080/"
        },
        "id": "c_7YOELqxdry",
        "outputId": "79dcb978-598d-441d-ffc5-c87ccc48d7ce"
      },
      "source": [
        "#Importando arquivo da dados em 'XLSX' conforme foi recebido, passando para uma váriavel e mostrando a quantidade de linhas e colunas \n",
        "\n",
        "df = pd.read_excel('/content/drive/MyDrive/Colab Notebooks/Datasets/dados_assinaturas.xlsx')\n",
        "df.shape\n",
        "print(f\"Dataset tem {df.shape[0]} linhas e {df.shape[1]} colunas.\")"
      ],
      "execution_count": 2,
      "outputs": [
        {
          "output_type": "stream",
          "name": "stdout",
          "text": [
            "Dataset tem 2027 linhas e 14 colunas.\n"
          ]
        }
      ]
    },
    {
      "cell_type": "markdown",
      "metadata": {
        "id": "_yuI7v49p30Q"
      },
      "source": [
        "##**Arquitetura dos Dados (AD)**\n",
        "######*Foi renomeado as colunas manualmente, claro que poderia ser renomeado por meio do código, mas para agilizar o relatório.*\n",
        "\n",
        "\n",
        "* **id** : Número de identificação do cliente\n",
        "* **data_criacao_perfil** : 'Nome sugestivo'\n",
        "* **data_exclusao_perfil** : 'Nome sugestivo'\n",
        "* **cod_plano** : 5 Tipos de planos(A,B,C,D,E)\n",
        "* **forma_pagamento** : 'Nome sugestivo'\n",
        "* **valor_plano** : 'Nome sugestivo'\n",
        "* **status_plano** : 3 Status (Draft:'em andamento',Active e Canceled)\n",
        "* **dia_pagamento** : 'Nome sugestivo'\n",
        "* **ultimo_pagamento** : 'Data do ultima pagamento do plano'\n",
        "* **proximo_pagamento** : 'Nome sugestivo'\n",
        "* **data_cancel_plano** : Data e Hora do cancelamento do Plano\n",
        "* **razao_cancelamento** : Motivo por que foi cancelado\n",
        "* **data_perfil_criado** : 'Nome sugestivo'\n",
        "* **uf_perfil** : Estado do Cadastro do Perfil\n"
      ]
    },
    {
      "cell_type": "code",
      "metadata": {
        "id": "3J0QUGwGcdHl"
      },
      "source": [
        "df.head()"
      ],
      "execution_count": null,
      "outputs": []
    },
    {
      "cell_type": "code",
      "metadata": {
        "id": "NtyR2f-JciSg"
      },
      "source": [
        "df.info()"
      ],
      "execution_count": null,
      "outputs": []
    },
    {
      "cell_type": "code",
      "metadata": {
        "colab": {
          "base_uri": "https://localhost:8080/"
        },
        "id": "cBISsSmFc1nu",
        "outputId": "ae2d37c3-235e-4c99-88e8-1d9a3369ed47"
      },
      "source": [
        "df.isnull().sum()"
      ],
      "execution_count": 5,
      "outputs": [
        {
          "output_type": "execute_result",
          "data": {
            "text/plain": [
              "id                         0\n",
              "data_criacao_perfil        0\n",
              "data_exclusao_perfil    1897\n",
              "cod_plano                  0\n",
              "forma_pagamento            0\n",
              "valor_plano                0\n",
              "status_plano               0\n",
              "dia_pagamento              0\n",
              "ultimo_pagamento         929\n",
              "proximo_pagamento        929\n",
              "data_cancel_plano        430\n",
              "razao_cancelamento       424\n",
              "data_perfil_criado         0\n",
              "uf_perfil                  0\n",
              "dtype: int64"
            ]
          },
          "metadata": {},
          "execution_count": 5
        }
      ]
    },
    {
      "cell_type": "code",
      "metadata": {
        "id": "RRR4J816ySta",
        "colab": {
          "base_uri": "https://localhost:8080/"
        },
        "outputId": "f8050555-aeef-44cf-aaf0-ffa9bf19d102"
      },
      "source": [
        "df.duplicated().sum()"
      ],
      "execution_count": 6,
      "outputs": [
        {
          "output_type": "execute_result",
          "data": {
            "text/plain": [
              "0"
            ]
          },
          "metadata": {},
          "execution_count": 6
        }
      ]
    },
    {
      "cell_type": "code",
      "metadata": {
        "id": "YzzUdTgJyXLo",
        "colab": {
          "base_uri": "https://localhost:8080/"
        },
        "outputId": "02510a4a-b22c-4ae4-d9b2-866fd0a2a939"
      },
      "source": [
        "df.cod_plano.value_counts()"
      ],
      "execution_count": 21,
      "outputs": [
        {
          "output_type": "execute_result",
          "data": {
            "text/plain": [
              "plano A    682\n",
              "plano B    450\n",
              "plano C    413\n",
              "plano D    387\n",
              "plano E     95\n",
              "Name: cod_plano, dtype: int64"
            ]
          },
          "metadata": {},
          "execution_count": 21
        }
      ]
    },
    {
      "cell_type": "code",
      "metadata": {
        "id": "NQQ1Jy-kdmDx"
      },
      "source": [
        "df[\"cod_plano\"].str.contains(\"plano A\")"
      ],
      "execution_count": null,
      "outputs": []
    },
    {
      "cell_type": "code",
      "metadata": {
        "id": "yCA56x76eIFS"
      },
      "source": [
        "plano_a = df[df[\"cod_plano\"].str.contains(\"plano A\", na=False)]"
      ],
      "execution_count": 63,
      "outputs": []
    },
    {
      "cell_type": "code",
      "metadata": {
        "id": "EyCrmux9fzBl"
      },
      "source": [
        "plano_a"
      ],
      "execution_count": null,
      "outputs": []
    },
    {
      "cell_type": "code",
      "metadata": {
        "colab": {
          "base_uri": "https://localhost:8080/"
        },
        "id": "gHBr43-Ff3pE",
        "outputId": "a14553ef-595a-45e5-d649-7b5433591cb3"
      },
      "source": [
        "plano_a.groupby([plano_a['status_plano']])[\"cod_plano\"].value_counts()"
      ],
      "execution_count": 71,
      "outputs": [
        {
          "output_type": "execute_result",
          "data": {
            "text/plain": [
              "status_plano   cod_plano\n",
              "ACTIVE         plano A      136\n",
              "CANCEL QUEUED  plano A        1\n",
              "CANCELED       plano A      532\n",
              "DRAFT          plano A       13\n",
              "Name: cod_plano, dtype: int64"
            ]
          },
          "metadata": {},
          "execution_count": 71
        }
      ]
    },
    {
      "cell_type": "code",
      "metadata": {
        "colab": {
          "base_uri": "https://localhost:8080/"
        },
        "id": "PcJZkuzWFUQ3",
        "outputId": "bc7d7aca-c5cc-486d-caa8-80465f45b062"
      },
      "source": [
        "df.groupby([df['status_plano']])[\"cod_plano\"].value_counts()"
      ],
      "execution_count": 37,
      "outputs": [
        {
          "output_type": "execute_result",
          "data": {
            "text/plain": [
              "status_plano   cod_plano\n",
              "ACTIVE         plano A      136\n",
              "               plano B       78\n",
              "               plano D       74\n",
              "               plano C       71\n",
              "               plano E       11\n",
              "CANCEL QUEUED  plano D        3\n",
              "               plano A        1\n",
              "               plano B        1\n",
              "               plano C        1\n",
              "CANCELED       plano A      532\n",
              "               plano B      362\n",
              "               plano C      326\n",
              "               plano D      298\n",
              "               plano E       79\n",
              "DRAFT          plano C       15\n",
              "               plano A       13\n",
              "               plano D       12\n",
              "               plano B        9\n",
              "               plano E        5\n",
              "Name: cod_plano, dtype: int64"
            ]
          },
          "metadata": {},
          "execution_count": 37
        }
      ]
    },
    {
      "cell_type": "code",
      "metadata": {
        "id": "XpAaydu0ynsY",
        "colab": {
          "base_uri": "https://localhost:8080/",
          "height": 298
        },
        "outputId": "26164999-09ed-456a-aea3-e54fb6bc0aab"
      },
      "source": [
        "sns.countplot(df['cod_plano'])"
      ],
      "execution_count": 8,
      "outputs": [
        {
          "output_type": "execute_result",
          "data": {
            "text/plain": [
              "<matplotlib.axes._subplots.AxesSubplot at 0x7f21fd9a88d0>"
            ]
          },
          "metadata": {},
          "execution_count": 8
        },
        {
          "output_type": "display_data",
          "data": {
            "image/png": "[encoded data removed]",
            "text/plain": [
              "<Figure size 432x288 with 1 Axes>"
            ]
          },
          "metadata": {
            "needs_background": "light"
          }
        }
      ]
    },
    {
      "cell_type": "code",
      "metadata": {
        "id": "5VIp57ZNzFXn",
        "colab": {
          "base_uri": "https://localhost:8080/",
          "height": 298
        },
        "outputId": "69fe172d-5c39-41db-b6af-0b4e979afaf4"
      },
      "source": [
        "sns.histplot(df['cod_plano'], kde=True)"
      ],
      "execution_count": 14,
      "outputs": [
        {
          "output_type": "execute_result",
          "data": {
            "text/plain": [
              "<matplotlib.axes._subplots.AxesSubplot at 0x7f21f87ebc90>"
            ]
          },
          "metadata": {},
          "execution_count": 14
        },
        {
          "output_type": "display_data",
          "data": {
            "image/png": "[encoded data removed]",
            "text/plain": [
              "<Figure size 432x288 with 1 Axes>"
            ]
          },
          "metadata": {
            "needs_background": "light"
          }
        }
      ]
    },
    {
      "cell_type": "code",
      "metadata": {
        "id": "STDNRsNDz_ks"
      },
      "source": [
        "sns.pairplot(df, hue='cod_plano')"
      ],
      "execution_count": null,
      "outputs": []
    },
    {
      "cell_type": "code",
      "metadata": {
        "id": "jjvXmfhw0il4"
      },
      "source": [
        "#antes de dropa os nulos é necessarios trata-los\n",
        "df = df.dropna()"
      ],
      "execution_count": null,
      "outputs": []
    },
    {
      "cell_type": "code",
      "metadata": {
        "id": "7USNMyHR1IQ1"
      },
      "source": [
        ""
      ],
      "execution_count": null,
      "outputs": []
    },
    {
      "cell_type": "code",
      "metadata": {
        "id": "JfzH_DVr1MP6"
      },
      "source": [
        "status_plano_qtds = df[df['cod_plano'] == 'plano A']['status_plano'].value_counts()\n",
        "status_plano_qtds"
      ],
      "execution_count": null,
      "outputs": []
    },
    {
      "cell_type": "code",
      "metadata": {
        "id": "Zm71H3CjgRSv"
      },
      "source": [
        ""
      ],
      "execution_count": null,
      "outputs": []
    }
  ]
}