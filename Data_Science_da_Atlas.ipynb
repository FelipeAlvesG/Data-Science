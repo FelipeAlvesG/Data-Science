{
  "nbformat": 4,
  "nbformat_minor": 0,
  "metadata": {
    "colab": {
      "name": "Data Science da Atlas.ipynb",
      "provenance": [],
      "collapsed_sections": [],
      "mount_file_id": "1I7rZPTt4R3uXhwX8XXbAUcMUGzjS40M9",
      "authorship_tag": "ABX9TyOxqByZZY4TQOnSdWuUnr19",
      "include_colab_link": true
    },
    "kernelspec": {
      "name": "python3",
      "display_name": "Python 3"
    },
    "language_info": {
      "name": "python"
    }
  },
  "cells": [
    {
      "cell_type": "markdown",
      "metadata": {
        "id": "view-in-github",
        "colab_type": "text"
      },
      "source": [
        "<a href=\"https://colab.research.google.com/github/FelipeAlvesG/Data-Science/blob/main/Data_Science_da_Atlas.ipynb\" target=\"_parent\"><img src=\"https://colab.research.google.com/assets/colab-badge.svg\" alt=\"Open In Colab\"/></a>"
      ]
    },
    {
      "cell_type": "code",
      "metadata": {
        "id": "8ZIIIZFcbGYn"
      },
      "source": [
        "#Arquivo da dados que foi convertido para 'CSV' para testes futuros\n",
        "#     pd.read_csv('/content/drive/MyDrive/Colab Notebooks/Datasets/dados.csv')  "
      ],
      "execution_count": null,
      "outputs": []
    },
    {
      "cell_type": "markdown",
      "metadata": {
        "id": "XEklq83iLdPn"
      },
      "source": [
        "!pip install pandera\n",
        "\n",
        "*Em formato de texto para não da erro toda vez que executar!*"
      ]
    },
    {
      "cell_type": "code",
      "metadata": {
        "id": "ToqWJg-AUiYf"
      },
      "source": [
        "#BIBLIOTECAS A SEREM USADAS\n",
        "import pandas as pd\n",
        "import numpy as np\n",
        "#import pandera as pa\n",
        "import seaborn as sns\n",
        "import warnings\n",
        "warnings.filterwarnings(\"ignore\")"
      ],
      "execution_count": 1,
      "outputs": []
    },
    {
      "cell_type": "code",
      "metadata": {
        "colab": {
          "base_uri": "https://localhost:8080/"
        },
        "id": "c_7YOELqxdry",
        "outputId": "e2347744-e59f-4aa2-b458-a4a8311e6334"
      },
      "source": [
        "#Importando arquivo da dados em 'XLSX' conforme foi recebido, passando para uma váriavel e mostrando a quantidade de linhas e colunas \n",
        "\n",
        "df = pd.read_excel('/content/drive/MyDrive/Colab Notebooks/Datasets/dados_assinaturas.xlsx')\n",
        "df.shape\n",
        "print(f\"Dataset tem {df.shape[0]} linhas e {df.shape[1]} colunas.\")"
      ],
      "execution_count": 3,
      "outputs": [
        {
          "output_type": "stream",
          "name": "stdout",
          "text": [
            "Dataset tem 2027 linhas e 14 colunas.\n"
          ]
        }
      ]
    },
    {
      "cell_type": "markdown",
      "metadata": {
        "id": "_yuI7v49p30Q"
      },
      "source": [
        "##**Arquitetura dos Dados (AD)**\n",
        "######*Foi renomeado as colunas manualmente, claro que poderia ser renomeado por meio do código, mas para agilizar o relatório.*\n",
        "\n",
        "\n",
        "* **id** : Número de identificação do cliente\n",
        "* **data_criacao_perfil** : 'Nome sugestivo'\n",
        "* **data_exclusao_perfil** : 'Nome sugestivo'\n",
        "* **cod_plano** : 5 Tipos de planos(A,B,C,D,E)\n",
        "* **forma_pagamento** : 'Nome sugestivo'\n",
        "* **valor_plano** : 'Nome sugestivo'\n",
        "* **status_plano** : 3 Status (Draft:'em andamento',Active e Canceled)\n",
        "* **dia_pagamento** : 'Nome sugestivo'\n",
        "* **ultimo_pagamento** : 'Data do ultima pagamento do plano'\n",
        "* **proximo_pagamento** : 'Nome sugestivo'\n",
        "* **data_cancel_plano** : Data e Hora do cancelamento do Plano\n",
        "* **razao_cancelamento** : Motivo por que foi cancelado\n",
        "* **data_perfil_criado** : 'Nome sugestivo'\n",
        "* **uf_perfil** : Estado do Cadastro do Perfil\n"
      ]
    },
    {
      "cell_type": "code",
      "metadata": {
        "colab": {
          "base_uri": "https://localhost:8080/",
          "height": 295
        },
        "id": "3J0QUGwGcdHl",
        "outputId": "d941c337-faeb-485f-9541-c04f466dfc05"
      },
      "source": [
        "df.head()"
      ],
      "execution_count": 4,
      "outputs": [
        {
          "output_type": "execute_result",
          "data": {
            "text/html": [
              "<div>\n",
              "<style scoped>\n",
              "    .dataframe tbody tr th:only-of-type {\n",
              "        vertical-align: middle;\n",
              "    }\n",
              "\n",
              "    .dataframe tbody tr th {\n",
              "        vertical-align: top;\n",
              "    }\n",
              "\n",
              "    .dataframe thead th {\n",
              "        text-align: right;\n",
              "    }\n",
              "</style>\n",
              "<table border=\"1\" class=\"dataframe\">\n",
              "  <thead>\n",
              "    <tr style=\"text-align: right;\">\n",
              "      <th></th>\n",
              "      <th>id</th>\n",
              "      <th>data_criacao_perfil</th>\n",
              "      <th>data_exclusao_perfil</th>\n",
              "      <th>cod_plano</th>\n",
              "      <th>forma_pagamento</th>\n",
              "      <th>valor_plano</th>\n",
              "      <th>status_plano</th>\n",
              "      <th>dia_pagamento</th>\n",
              "      <th>ultimo_pagamento</th>\n",
              "      <th>proximo_pagamento</th>\n",
              "      <th>data_cancel_plano</th>\n",
              "      <th>razao_cancelamento</th>\n",
              "      <th>data_perfil_criado</th>\n",
              "      <th>uf_perfil</th>\n",
              "    </tr>\n",
              "  </thead>\n",
              "  <tbody>\n",
              "    <tr>\n",
              "      <th>0</th>\n",
              "      <td>473128</td>\n",
              "      <td>2021-07-16 12:45:36</td>\n",
              "      <td>NaT</td>\n",
              "      <td>plano D</td>\n",
              "      <td>CREDIT_CARD</td>\n",
              "      <td>59.9</td>\n",
              "      <td>DRAFT</td>\n",
              "      <td>19</td>\n",
              "      <td>NaN</td>\n",
              "      <td>NaT</td>\n",
              "      <td>NaT</td>\n",
              "      <td>NaN</td>\n",
              "      <td>2021-07-19 18:45:21</td>\n",
              "      <td>Rio de Janeiro</td>\n",
              "    </tr>\n",
              "    <tr>\n",
              "      <th>1</th>\n",
              "      <td>315949</td>\n",
              "      <td>2021-07-14 11:01:43</td>\n",
              "      <td>NaT</td>\n",
              "      <td>plano A</td>\n",
              "      <td>CREDIT_CARD</td>\n",
              "      <td>89.9</td>\n",
              "      <td>CANCELED</td>\n",
              "      <td>23</td>\n",
              "      <td>2021-07-23</td>\n",
              "      <td>2021-07-23</td>\n",
              "      <td>2021-07-23</td>\n",
              "      <td>PAYMENT FAILED</td>\n",
              "      <td>2021-07-23 20:05:14</td>\n",
              "      <td>Rio de Janeiro</td>\n",
              "    </tr>\n",
              "    <tr>\n",
              "      <th>2</th>\n",
              "      <td>293763</td>\n",
              "      <td>2018-12-21 04:34:25</td>\n",
              "      <td>NaT</td>\n",
              "      <td>plano B</td>\n",
              "      <td>CREDIT_CARD</td>\n",
              "      <td>359.9</td>\n",
              "      <td>CANCELED</td>\n",
              "      <td>24</td>\n",
              "      <td>2021-07-24</td>\n",
              "      <td>2021-07-24</td>\n",
              "      <td>2021-07-27</td>\n",
              "      <td>USER SUSPENDED</td>\n",
              "      <td>2021-07-24 21:34:55</td>\n",
              "      <td>Bahia</td>\n",
              "    </tr>\n",
              "    <tr>\n",
              "      <th>3</th>\n",
              "      <td>124763</td>\n",
              "      <td>2021-01-24 07:52:57</td>\n",
              "      <td>NaT</td>\n",
              "      <td>plano D</td>\n",
              "      <td>CREDIT_CARD</td>\n",
              "      <td>59.9</td>\n",
              "      <td>CANCELED</td>\n",
              "      <td>25</td>\n",
              "      <td>NaN</td>\n",
              "      <td>NaT</td>\n",
              "      <td>2021-07-04</td>\n",
              "      <td>ADMIN CANCELED</td>\n",
              "      <td>2021-07-25 01:04:58</td>\n",
              "      <td>Rio de Janeiro</td>\n",
              "    </tr>\n",
              "    <tr>\n",
              "      <th>4</th>\n",
              "      <td>391446</td>\n",
              "      <td>2021-01-24 07:52:57</td>\n",
              "      <td>NaT</td>\n",
              "      <td>plano A</td>\n",
              "      <td>CREDIT_CARD</td>\n",
              "      <td>99.9</td>\n",
              "      <td>CANCELED</td>\n",
              "      <td>25</td>\n",
              "      <td>NaN</td>\n",
              "      <td>NaT</td>\n",
              "      <td>2021-07-04</td>\n",
              "      <td>ADMIN CANCELED</td>\n",
              "      <td>2021-07-25 01:05:05</td>\n",
              "      <td>Rio de Janeiro</td>\n",
              "    </tr>\n",
              "  </tbody>\n",
              "</table>\n",
              "</div>"
            ],
            "text/plain": [
              "       id data_criacao_perfil  ... data_perfil_criado        uf_perfil\n",
              "0  473128 2021-07-16 12:45:36  ... 2021-07-19 18:45:21  Rio de Janeiro\n",
              "1  315949 2021-07-14 11:01:43  ... 2021-07-23 20:05:14  Rio de Janeiro\n",
              "2  293763 2018-12-21 04:34:25  ... 2021-07-24 21:34:55           Bahia\n",
              "3  124763 2021-01-24 07:52:57  ... 2021-07-25 01:04:58  Rio de Janeiro\n",
              "4  391446 2021-01-24 07:52:57  ... 2021-07-25 01:05:05  Rio de Janeiro\n",
              "\n",
              "[5 rows x 14 columns]"
            ]
          },
          "metadata": {},
          "execution_count": 4
        }
      ]
    },
    {
      "cell_type": "code",
      "metadata": {
        "id": "eglRDgkK_Y-k"
      },
      "source": [
        "df.data_criacao_perfil.dt.month.sort_values(ascending=False)"
      ],
      "execution_count": null,
      "outputs": []
    },
    {
      "cell_type": "code",
      "metadata": {
        "colab": {
          "base_uri": "https://localhost:8080/",
          "height": 295
        },
        "id": "mqcBPlaXFAgO",
        "outputId": "7e61f64f-f9eb-46fe-cdab-7ac85cc597e2"
      },
      "source": [
        "df.id.duplicated().sum()\n",
        "df[df[\"id\"].duplicated()]"
      ],
      "execution_count": 5,
      "outputs": [
        {
          "output_type": "execute_result",
          "data": {
            "text/html": [
              "<div>\n",
              "<style scoped>\n",
              "    .dataframe tbody tr th:only-of-type {\n",
              "        vertical-align: middle;\n",
              "    }\n",
              "\n",
              "    .dataframe tbody tr th {\n",
              "        vertical-align: top;\n",
              "    }\n",
              "\n",
              "    .dataframe thead th {\n",
              "        text-align: right;\n",
              "    }\n",
              "</style>\n",
              "<table border=\"1\" class=\"dataframe\">\n",
              "  <thead>\n",
              "    <tr style=\"text-align: right;\">\n",
              "      <th></th>\n",
              "      <th>id</th>\n",
              "      <th>data_criacao_perfil</th>\n",
              "      <th>data_exclusao_perfil</th>\n",
              "      <th>cod_plano</th>\n",
              "      <th>forma_pagamento</th>\n",
              "      <th>valor_plano</th>\n",
              "      <th>status_plano</th>\n",
              "      <th>dia_pagamento</th>\n",
              "      <th>ultimo_pagamento</th>\n",
              "      <th>proximo_pagamento</th>\n",
              "      <th>data_cancel_plano</th>\n",
              "      <th>razao_cancelamento</th>\n",
              "      <th>data_perfil_criado</th>\n",
              "      <th>uf_perfil</th>\n",
              "    </tr>\n",
              "  </thead>\n",
              "  <tbody>\n",
              "    <tr>\n",
              "      <th>412</th>\n",
              "      <td>326339</td>\n",
              "      <td>2020-09-16 09:20:11</td>\n",
              "      <td>2021-10-11 18:57:43</td>\n",
              "      <td>plano D</td>\n",
              "      <td>CREDIT_CARD</td>\n",
              "      <td>59.9</td>\n",
              "      <td>DRAFT</td>\n",
              "      <td>15</td>\n",
              "      <td>NaN</td>\n",
              "      <td>NaT</td>\n",
              "      <td>NaT</td>\n",
              "      <td>NaN</td>\n",
              "      <td>2021-07-15 11:26:40</td>\n",
              "      <td>São Paulo</td>\n",
              "    </tr>\n",
              "    <tr>\n",
              "      <th>901</th>\n",
              "      <td>27222</td>\n",
              "      <td>2021-05-03 09:56:44</td>\n",
              "      <td>NaT</td>\n",
              "      <td>plano A</td>\n",
              "      <td>CREDIT_CARD</td>\n",
              "      <td>99.9</td>\n",
              "      <td>CANCELED</td>\n",
              "      <td>8</td>\n",
              "      <td>NaN</td>\n",
              "      <td>NaT</td>\n",
              "      <td>2021-09-07</td>\n",
              "      <td>PAYMENT FAILED</td>\n",
              "      <td>2021-09-07 18:09:06</td>\n",
              "      <td>Minas Gerais</td>\n",
              "    </tr>\n",
              "    <tr>\n",
              "      <th>1198</th>\n",
              "      <td>180754</td>\n",
              "      <td>2019-05-01 23:13:43</td>\n",
              "      <td>2021-09-29 01:14:32</td>\n",
              "      <td>plano B</td>\n",
              "      <td>CREDIT_CARD</td>\n",
              "      <td>399.9</td>\n",
              "      <td>CANCELED</td>\n",
              "      <td>23</td>\n",
              "      <td>NaN</td>\n",
              "      <td>NaT</td>\n",
              "      <td>2021-09-23</td>\n",
              "      <td>PAYMENT FAILED</td>\n",
              "      <td>2021-09-23 19:41:20</td>\n",
              "      <td>Rio de Janeiro</td>\n",
              "    </tr>\n",
              "    <tr>\n",
              "      <th>1730</th>\n",
              "      <td>172197</td>\n",
              "      <td>2018-12-17 10:09:53</td>\n",
              "      <td>NaT</td>\n",
              "      <td>plano D</td>\n",
              "      <td>CREDIT_CARD</td>\n",
              "      <td>59.9</td>\n",
              "      <td>CANCELED</td>\n",
              "      <td>13</td>\n",
              "      <td>NaN</td>\n",
              "      <td>NaT</td>\n",
              "      <td>2021-10-13</td>\n",
              "      <td>PAYMENT FAILED</td>\n",
              "      <td>2021-10-13 20:17:07</td>\n",
              "      <td>Santa Catarina</td>\n",
              "    </tr>\n",
              "    <tr>\n",
              "      <th>1986</th>\n",
              "      <td>1299807</td>\n",
              "      <td>2021-10-26 10:58:27</td>\n",
              "      <td>NaT</td>\n",
              "      <td>plano B</td>\n",
              "      <td>CREDIT_CARD</td>\n",
              "      <td>399.9</td>\n",
              "      <td>CANCELED</td>\n",
              "      <td>27</td>\n",
              "      <td>NaN</td>\n",
              "      <td>NaT</td>\n",
              "      <td>2021-07-04</td>\n",
              "      <td>ADMIN CANCELED</td>\n",
              "      <td>2021-06-27 15:45:34</td>\n",
              "      <td>Minas Gerais</td>\n",
              "    </tr>\n",
              "  </tbody>\n",
              "</table>\n",
              "</div>"
            ],
            "text/plain": [
              "           id data_criacao_perfil  ... data_perfil_criado        uf_perfil\n",
              "412    326339 2020-09-16 09:20:11  ... 2021-07-15 11:26:40       São Paulo\n",
              "901     27222 2021-05-03 09:56:44  ... 2021-09-07 18:09:06    Minas Gerais\n",
              "1198   180754 2019-05-01 23:13:43  ... 2021-09-23 19:41:20  Rio de Janeiro\n",
              "1730   172197 2018-12-17 10:09:53  ... 2021-10-13 20:17:07  Santa Catarina\n",
              "1986  1299807 2021-10-26 10:58:27  ... 2021-06-27 15:45:34    Minas Gerais\n",
              "\n",
              "[5 rows x 14 columns]"
            ]
          },
          "metadata": {},
          "execution_count": 5
        }
      ]
    },
    {
      "cell_type": "code",
      "metadata": {
        "id": "7M5rHf-gLgGz"
      },
      "source": [
        ""
      ],
      "execution_count": null,
      "outputs": []
    },
    {
      "cell_type": "code",
      "metadata": {
        "colab": {
          "base_uri": "https://localhost:8080/"
        },
        "id": "0pKZecwOK5Zq",
        "outputId": "9a3cdca7-335d-481d-8f79-5e120efebfd8"
      },
      "source": [
        "df.isna().sum()"
      ],
      "execution_count": 10,
      "outputs": [
        {
          "output_type": "execute_result",
          "data": {
            "text/plain": [
              "id                         0\n",
              "data_criacao_perfil        0\n",
              "data_exclusao_perfil    1897\n",
              "cod_plano                  0\n",
              "forma_pagamento            0\n",
              "valor_plano                0\n",
              "status_plano               0\n",
              "dia_pagamento              0\n",
              "ultimo_pagamento         929\n",
              "proximo_pagamento        929\n",
              "data_cancel_plano        430\n",
              "razao_cancelamento       424\n",
              "data_perfil_criado         0\n",
              "uf_perfil                  0\n",
              "dtype: int64"
            ]
          },
          "metadata": {},
          "execution_count": 10
        }
      ]
    },
    {
      "cell_type": "code",
      "metadata": {
        "colab": {
          "base_uri": "https://localhost:8080/"
        },
        "id": "cBISsSmFc1nu",
        "outputId": "ae2d37c3-235e-4c99-88e8-1d9a3369ed47"
      },
      "source": [
        "df.isnull().sum()"
      ],
      "execution_count": 5,
      "outputs": [
        {
          "output_type": "execute_result",
          "data": {
            "text/plain": [
              "id                         0\n",
              "data_criacao_perfil        0\n",
              "data_exclusao_perfil    1897\n",
              "cod_plano                  0\n",
              "forma_pagamento            0\n",
              "valor_plano                0\n",
              "status_plano               0\n",
              "dia_pagamento              0\n",
              "ultimo_pagamento         929\n",
              "proximo_pagamento        929\n",
              "data_cancel_plano        430\n",
              "razao_cancelamento       424\n",
              "data_perfil_criado         0\n",
              "uf_perfil                  0\n",
              "dtype: int64"
            ]
          },
          "metadata": {},
          "execution_count": 5
        }
      ]
    },
    {
      "cell_type": "code",
      "metadata": {
        "colab": {
          "base_uri": "https://localhost:8080/"
        },
        "id": "Z_VOM4CH_3yn",
        "outputId": "758a05f2-03a8-4275-d119-21bcea08599e"
      },
      "source": [
        "df.loc[:,'valor_plano']"
      ],
      "execution_count": 21,
      "outputs": [
        {
          "output_type": "execute_result",
          "data": {
            "text/plain": [
              "0        59.9\n",
              "1        89.9\n",
              "2       359.9\n",
              "3        59.9\n",
              "4        99.9\n",
              "        ...  \n",
              "2022     89.9\n",
              "2023     53.9\n",
              "2024     89.9\n",
              "2025     53.9\n",
              "2026     89.9\n",
              "Name: valor_plano, Length: 2027, dtype: float64"
            ]
          },
          "metadata": {},
          "execution_count": 21
        }
      ]
    },
    {
      "cell_type": "code",
      "metadata": {
        "id": "NtyR2f-JciSg"
      },
      "source": [
        "df.info()"
      ],
      "execution_count": null,
      "outputs": []
    },
    {
      "cell_type": "code",
      "metadata": {
        "id": "RRR4J816ySta",
        "colab": {
          "base_uri": "https://localhost:8080/"
        },
        "outputId": "cfa45034-7205-4013-cd1b-8c94d32e113e"
      },
      "source": [
        "df.duplicated().sum()"
      ],
      "execution_count": 8,
      "outputs": [
        {
          "output_type": "execute_result",
          "data": {
            "text/plain": [
              "0"
            ]
          },
          "metadata": {},
          "execution_count": 8
        }
      ]
    },
    {
      "cell_type": "code",
      "metadata": {
        "id": "YzzUdTgJyXLo",
        "colab": {
          "base_uri": "https://localhost:8080/"
        },
        "outputId": "9f7d4b92-cec3-42b0-85eb-f22ceb20a1d1"
      },
      "source": [
        "df.cod_plano.value_counts()"
      ],
      "execution_count": 9,
      "outputs": [
        {
          "output_type": "execute_result",
          "data": {
            "text/plain": [
              "plano A    682\n",
              "plano B    450\n",
              "plano C    413\n",
              "plano D    387\n",
              "plano E     95\n",
              "Name: cod_plano, dtype: int64"
            ]
          },
          "metadata": {},
          "execution_count": 9
        }
      ]
    },
    {
      "cell_type": "code",
      "metadata": {
        "id": "NQQ1Jy-kdmDx"
      },
      "source": [
        "df[\"cod_plano\"].str.contains(\"plano A\")"
      ],
      "execution_count": null,
      "outputs": []
    },
    {
      "cell_type": "code",
      "metadata": {
        "id": "yCA56x76eIFS"
      },
      "source": [
        "plano_a = df[df[\"cod_plano\"].str.contains(\"plano A\", na=False)]"
      ],
      "execution_count": 63,
      "outputs": []
    },
    {
      "cell_type": "code",
      "metadata": {
        "colab": {
          "base_uri": "https://localhost:8080/",
          "height": 615
        },
        "id": "_7mlcgrOzBFb",
        "outputId": "a9ee908d-7811-4b2c-cb60-9df267fcb409"
      },
      "source": [
        "tst = df.cod_plano.str[-1] == \"A\"\n",
        "df.loc[tst]"
      ],
      "execution_count": 29,
      "outputs": [
        {
          "output_type": "execute_result",
          "data": {
            "text/html": [
              "<div>\n",
              "<style scoped>\n",
              "    .dataframe tbody tr th:only-of-type {\n",
              "        vertical-align: middle;\n",
              "    }\n",
              "\n",
              "    .dataframe tbody tr th {\n",
              "        vertical-align: top;\n",
              "    }\n",
              "\n",
              "    .dataframe thead th {\n",
              "        text-align: right;\n",
              "    }\n",
              "</style>\n",
              "<table border=\"1\" class=\"dataframe\">\n",
              "  <thead>\n",
              "    <tr style=\"text-align: right;\">\n",
              "      <th></th>\n",
              "      <th>id</th>\n",
              "      <th>data_criacao_perfil</th>\n",
              "      <th>data_exclusao_perfil</th>\n",
              "      <th>cod_plano</th>\n",
              "      <th>forma_pagamento</th>\n",
              "      <th>valor_plano</th>\n",
              "      <th>status_plano</th>\n",
              "      <th>dia_pagamento</th>\n",
              "      <th>ultimo_pagamento</th>\n",
              "      <th>proximo_pagamento</th>\n",
              "      <th>data_cancel_plano</th>\n",
              "      <th>razao_cancelamento</th>\n",
              "      <th>data_perfil_criado</th>\n",
              "      <th>uf_perfil</th>\n",
              "    </tr>\n",
              "  </thead>\n",
              "  <tbody>\n",
              "    <tr>\n",
              "      <th>1</th>\n",
              "      <td>315949</td>\n",
              "      <td>2021-07-14 11:01:43</td>\n",
              "      <td>NaT</td>\n",
              "      <td>plano A</td>\n",
              "      <td>CREDIT_CARD</td>\n",
              "      <td>89.9</td>\n",
              "      <td>CANCELED</td>\n",
              "      <td>23</td>\n",
              "      <td>2021-07-23</td>\n",
              "      <td>2021-07-23</td>\n",
              "      <td>2021-07-23</td>\n",
              "      <td>PAYMENT FAILED</td>\n",
              "      <td>2021-07-23 20:05:14</td>\n",
              "      <td>Rio de Janeiro</td>\n",
              "    </tr>\n",
              "    <tr>\n",
              "      <th>4</th>\n",
              "      <td>391446</td>\n",
              "      <td>2021-01-24 07:52:57</td>\n",
              "      <td>NaT</td>\n",
              "      <td>plano A</td>\n",
              "      <td>CREDIT_CARD</td>\n",
              "      <td>99.9</td>\n",
              "      <td>CANCELED</td>\n",
              "      <td>25</td>\n",
              "      <td>NaN</td>\n",
              "      <td>NaT</td>\n",
              "      <td>2021-07-04</td>\n",
              "      <td>ADMIN CANCELED</td>\n",
              "      <td>2021-07-25 01:05:05</td>\n",
              "      <td>Rio de Janeiro</td>\n",
              "    </tr>\n",
              "    <tr>\n",
              "      <th>5</th>\n",
              "      <td>322789</td>\n",
              "      <td>2020-05-11 16:16:23</td>\n",
              "      <td>NaT</td>\n",
              "      <td>plano A</td>\n",
              "      <td>CREDIT_CARD</td>\n",
              "      <td>89.9</td>\n",
              "      <td>ACTIVE</td>\n",
              "      <td>26</td>\n",
              "      <td>2021-09-26</td>\n",
              "      <td>2021-10-26</td>\n",
              "      <td>NaT</td>\n",
              "      <td>NaN</td>\n",
              "      <td>2021-07-26 10:21:55</td>\n",
              "      <td>Rio de Janeiro</td>\n",
              "    </tr>\n",
              "    <tr>\n",
              "      <th>12</th>\n",
              "      <td>257313</td>\n",
              "      <td>2021-03-27 16:21:12</td>\n",
              "      <td>NaT</td>\n",
              "      <td>plano A</td>\n",
              "      <td>CREDIT_CARD</td>\n",
              "      <td>99.9</td>\n",
              "      <td>CANCELED</td>\n",
              "      <td>27</td>\n",
              "      <td>NaN</td>\n",
              "      <td>NaT</td>\n",
              "      <td>2021-07-29</td>\n",
              "      <td>USER SUSPENDED</td>\n",
              "      <td>2021-07-27 07:04:34</td>\n",
              "      <td>Rio de Janeiro</td>\n",
              "    </tr>\n",
              "    <tr>\n",
              "      <th>16</th>\n",
              "      <td>316712</td>\n",
              "      <td>2021-01-22 09:34:21</td>\n",
              "      <td>NaT</td>\n",
              "      <td>plano A</td>\n",
              "      <td>CREDIT_CARD</td>\n",
              "      <td>99.9</td>\n",
              "      <td>CANCELED</td>\n",
              "      <td>27</td>\n",
              "      <td>NaN</td>\n",
              "      <td>NaT</td>\n",
              "      <td>2021-07-04</td>\n",
              "      <td>ADMIN CANCELED</td>\n",
              "      <td>2021-07-27 14:53:11</td>\n",
              "      <td>Mato Grosso</td>\n",
              "    </tr>\n",
              "    <tr>\n",
              "      <th>...</th>\n",
              "      <td>...</td>\n",
              "      <td>...</td>\n",
              "      <td>...</td>\n",
              "      <td>...</td>\n",
              "      <td>...</td>\n",
              "      <td>...</td>\n",
              "      <td>...</td>\n",
              "      <td>...</td>\n",
              "      <td>...</td>\n",
              "      <td>...</td>\n",
              "      <td>...</td>\n",
              "      <td>...</td>\n",
              "      <td>...</td>\n",
              "      <td>...</td>\n",
              "    </tr>\n",
              "    <tr>\n",
              "      <th>2011</th>\n",
              "      <td>1299782</td>\n",
              "      <td>2021-10-26 10:30:23</td>\n",
              "      <td>NaT</td>\n",
              "      <td>plano A</td>\n",
              "      <td>CREDIT_CARD</td>\n",
              "      <td>89.9</td>\n",
              "      <td>CANCELED</td>\n",
              "      <td>28</td>\n",
              "      <td>2021-06-28 00:00:00</td>\n",
              "      <td>2021-07-28</td>\n",
              "      <td>2021-07-21</td>\n",
              "      <td>USER SUSPENDED</td>\n",
              "      <td>2021-06-28 18:51:52</td>\n",
              "      <td>Rio de Janeiro</td>\n",
              "    </tr>\n",
              "    <tr>\n",
              "      <th>2016</th>\n",
              "      <td>1299777</td>\n",
              "      <td>2021-10-26 10:27:15</td>\n",
              "      <td>NaT</td>\n",
              "      <td>plano A</td>\n",
              "      <td>CREDIT_CARD</td>\n",
              "      <td>99.9</td>\n",
              "      <td>CANCELED</td>\n",
              "      <td>29</td>\n",
              "      <td>NaN</td>\n",
              "      <td>NaT</td>\n",
              "      <td>2021-07-04</td>\n",
              "      <td>ADMIN CANCELED</td>\n",
              "      <td>2021-06-29 00:00:29</td>\n",
              "      <td>São Paulo</td>\n",
              "    </tr>\n",
              "    <tr>\n",
              "      <th>2022</th>\n",
              "      <td>1299771</td>\n",
              "      <td>2021-10-26 10:23:16</td>\n",
              "      <td>NaT</td>\n",
              "      <td>plano A</td>\n",
              "      <td>CREDIT_CARD</td>\n",
              "      <td>89.9</td>\n",
              "      <td>CANCELED</td>\n",
              "      <td>26</td>\n",
              "      <td>2021-06-29 00:00:00</td>\n",
              "      <td>2021-07-26</td>\n",
              "      <td>2021-07-21</td>\n",
              "      <td>USER SUSPENDED</td>\n",
              "      <td>2021-06-29 12:37:09</td>\n",
              "      <td>Minas Gerais</td>\n",
              "    </tr>\n",
              "    <tr>\n",
              "      <th>2024</th>\n",
              "      <td>1299769</td>\n",
              "      <td>2021-10-26 10:18:38</td>\n",
              "      <td>NaT</td>\n",
              "      <td>plano A</td>\n",
              "      <td>CREDIT_CARD</td>\n",
              "      <td>89.9</td>\n",
              "      <td>CANCELED</td>\n",
              "      <td>26</td>\n",
              "      <td>2021-06-26 00:00:00</td>\n",
              "      <td>2021-07-26</td>\n",
              "      <td>2021-07-12</td>\n",
              "      <td>USER CANCELED</td>\n",
              "      <td>2021-06-29 12:40:01</td>\n",
              "      <td>São Paulo</td>\n",
              "    </tr>\n",
              "    <tr>\n",
              "      <th>2026</th>\n",
              "      <td>1299767</td>\n",
              "      <td>2021-10-26 10:17:46</td>\n",
              "      <td>NaT</td>\n",
              "      <td>plano A</td>\n",
              "      <td>CREDIT_CARD</td>\n",
              "      <td>89.9</td>\n",
              "      <td>CANCELED</td>\n",
              "      <td>26</td>\n",
              "      <td>2021-06-29 00:00:00</td>\n",
              "      <td>2021-07-26</td>\n",
              "      <td>2021-07-26</td>\n",
              "      <td>PAYMENT FAILED</td>\n",
              "      <td>2021-06-29 13:35:02</td>\n",
              "      <td>Rio Grande do Sul</td>\n",
              "    </tr>\n",
              "  </tbody>\n",
              "</table>\n",
              "<p>682 rows × 14 columns</p>\n",
              "</div>"
            ],
            "text/plain": [
              "           id data_criacao_perfil  ... data_perfil_criado           uf_perfil\n",
              "1      315949 2021-07-14 11:01:43  ... 2021-07-23 20:05:14     Rio de Janeiro\n",
              "4      391446 2021-01-24 07:52:57  ... 2021-07-25 01:05:05     Rio de Janeiro\n",
              "5      322789 2020-05-11 16:16:23  ... 2021-07-26 10:21:55     Rio de Janeiro\n",
              "12     257313 2021-03-27 16:21:12  ... 2021-07-27 07:04:34     Rio de Janeiro\n",
              "16     316712 2021-01-22 09:34:21  ... 2021-07-27 14:53:11        Mato Grosso\n",
              "...       ...                 ...  ...                 ...                ...\n",
              "2011  1299782 2021-10-26 10:30:23  ... 2021-06-28 18:51:52     Rio de Janeiro\n",
              "2016  1299777 2021-10-26 10:27:15  ... 2021-06-29 00:00:29          São Paulo\n",
              "2022  1299771 2021-10-26 10:23:16  ... 2021-06-29 12:37:09       Minas Gerais\n",
              "2024  1299769 2021-10-26 10:18:38  ... 2021-06-29 12:40:01          São Paulo\n",
              "2026  1299767 2021-10-26 10:17:46  ... 2021-06-29 13:35:02  Rio Grande do Sul\n",
              "\n",
              "[682 rows x 14 columns]"
            ]
          },
          "metadata": {},
          "execution_count": 29
        }
      ]
    },
    {
      "cell_type": "code",
      "metadata": {
        "id": "EyCrmux9fzBl"
      },
      "source": [
        "plano_a"
      ],
      "execution_count": null,
      "outputs": []
    },
    {
      "cell_type": "code",
      "metadata": {
        "colab": {
          "base_uri": "https://localhost:8080/"
        },
        "id": "gHBr43-Ff3pE",
        "outputId": "a14553ef-595a-45e5-d649-7b5433591cb3"
      },
      "source": [
        "plano_a.groupby([plano_a['status_plano']])[\"cod_plano\"].value_counts()"
      ],
      "execution_count": 71,
      "outputs": [
        {
          "output_type": "execute_result",
          "data": {
            "text/plain": [
              "status_plano   cod_plano\n",
              "ACTIVE         plano A      136\n",
              "CANCEL QUEUED  plano A        1\n",
              "CANCELED       plano A      532\n",
              "DRAFT          plano A       13\n",
              "Name: cod_plano, dtype: int64"
            ]
          },
          "metadata": {},
          "execution_count": 71
        }
      ]
    },
    {
      "cell_type": "code",
      "metadata": {
        "colab": {
          "base_uri": "https://localhost:8080/"
        },
        "id": "PcJZkuzWFUQ3",
        "outputId": "bc7d7aca-c5cc-486d-caa8-80465f45b062"
      },
      "source": [
        "df.groupby([df['status_plano']])[\"cod_plano\"].value_counts()"
      ],
      "execution_count": 37,
      "outputs": [
        {
          "output_type": "execute_result",
          "data": {
            "text/plain": [
              "status_plano   cod_plano\n",
              "ACTIVE         plano A      136\n",
              "               plano B       78\n",
              "               plano D       74\n",
              "               plano C       71\n",
              "               plano E       11\n",
              "CANCEL QUEUED  plano D        3\n",
              "               plano A        1\n",
              "               plano B        1\n",
              "               plano C        1\n",
              "CANCELED       plano A      532\n",
              "               plano B      362\n",
              "               plano C      326\n",
              "               plano D      298\n",
              "               plano E       79\n",
              "DRAFT          plano C       15\n",
              "               plano A       13\n",
              "               plano D       12\n",
              "               plano B        9\n",
              "               plano E        5\n",
              "Name: cod_plano, dtype: int64"
            ]
          },
          "metadata": {},
          "execution_count": 37
        }
      ]
    },
    {
      "cell_type": "code",
      "metadata": {
        "id": "XpAaydu0ynsY",
        "colab": {
          "base_uri": "https://localhost:8080/",
          "height": 298
        },
        "outputId": "26164999-09ed-456a-aea3-e54fb6bc0aab"
      },
      "source": [
        "sns.countplot(df['cod_plano'])"
      ],
      "execution_count": 8,
      "outputs": [
        {
          "output_type": "execute_result",
          "data": {
            "text/plain": [
              "<matplotlib.axes._subplots.AxesSubplot at 0x7f21fd9a88d0>"
            ]
          },
          "metadata": {},
          "execution_count": 8
        },
        {
          "output_type": "display_data",
          "data": {
            "image/png": "[encoded data removed]",
            "text/plain": [
              "<Figure size 432x288 with 1 Axes>"
            ]
          },
          "metadata": {
            "needs_background": "light"
          }
        }
      ]
    },
    {
      "cell_type": "code",
      "metadata": {
        "id": "5VIp57ZNzFXn",
        "colab": {
          "base_uri": "https://localhost:8080/",
          "height": 298
        },
        "outputId": "69fe172d-5c39-41db-b6af-0b4e979afaf4"
      },
      "source": [
        "sns.histplot(df['cod_plano'], kde=True)"
      ],
      "execution_count": 14,
      "outputs": [
        {
          "output_type": "execute_result",
          "data": {
            "text/plain": [
              "<matplotlib.axes._subplots.AxesSubplot at 0x7f21f87ebc90>"
            ]
          },
          "metadata": {},
          "execution_count": 14
        },
        {
          "output_type": "display_data",
          "data": {
            "image/png": "[encoded data removed]",
            "text/plain": [
              "<Figure size 432x288 with 1 Axes>"
            ]
          },
          "metadata": {
            "needs_background": "light"
          }
        }
      ]
    },
    {
      "cell_type": "code",
      "metadata": {
        "id": "STDNRsNDz_ks",
        "colab": {
          "base_uri": "https://localhost:8080/",
          "height": 568
        },
        "outputId": "547a021b-e225-4ed7-edab-aeffff9fc52b"
      },
      "source": [
        "sns.pairplot(df, hue='cod_plano')"
      ],
      "execution_count": 6,
      "outputs": [
        {
          "output_type": "execute_result",
          "data": {
            "text/plain": [
              "<seaborn.axisgrid.PairGrid at 0x7fd25ddc1d90>"
            ]
          },
          "metadata": {},
          "execution_count": 6
        },
        {
          "output_type": "display_data",
          "data": {
            "image/png": "[encoded data removed]",
            "text/plain": [
              "<Figure size 614.5x540 with 12 Axes>"
            ]
          },
          "metadata": {
            "needs_background": "light"
          }
        }
      ]
    },
    {
      "cell_type": "code",
      "metadata": {
        "id": "jjvXmfhw0il4"
      },
      "source": [
        "#antes de dropa os nulos é necessarios trata-los\n",
        "df = df.dropna()"
      ],
      "execution_count": null,
      "outputs": []
    },
    {
      "cell_type": "code",
      "metadata": {
        "id": "7USNMyHR1IQ1"
      },
      "source": [
        ""
      ],
      "execution_count": null,
      "outputs": []
    },
    {
      "cell_type": "code",
      "metadata": {
        "id": "JfzH_DVr1MP6"
      },
      "source": [
        "status_plano_qtds = df[df['cod_plano'] == 'plano A']['status_plano'].value_counts()\n",
        "status_plano_qtds"
      ],
      "execution_count": null,
      "outputs": []
    },
    {
      "cell_type": "code",
      "metadata": {
        "id": "Zm71H3CjgRSv"
      },
      "source": [
        ""
      ],
      "execution_count": null,
      "outputs": []
    }
  ]
}